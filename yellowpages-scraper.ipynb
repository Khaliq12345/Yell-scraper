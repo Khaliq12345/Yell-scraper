{
 "cells": [
  {
   "cell_type": "code",
   "execution_count": 1,
   "metadata": {},
   "outputs": [],
   "source": [
    "import requests\n",
    "from bs4 import BeautifulSoup\n",
    "import pandas as pd"
   ]
  },
  {
   "cell_type": "code",
   "execution_count": 2,
   "metadata": {},
   "outputs": [],
   "source": [
    "response = requests.get('https://www.yellowpages.com/search?search_terms=attorneys&geo_location_terms=Los%20Angeles')\n",
    "soup = BeautifulSoup(response.text, 'html.parser')"
   ]
  },
  {
   "cell_type": "code",
   "execution_count": 3,
   "metadata": {},
   "outputs": [
    {
     "data": {
      "text/plain": [
       "'/search?search_terms=attorneys&geo_location_terms=Los%20Angeles&page=2'"
      ]
     },
     "execution_count": 3,
     "metadata": {},
     "output_type": "execute_result"
    }
   ],
   "source": [
    "cards = soup.select('.result')\n",
    "name = cards[0].select_one('.business-name').text\n",
    "link = cards[0].select_one('.links a')['href']\n",
    "phone = cards[0].select_one('.phone').text\n",
    "address1 = cards[1].select_one('.street-address').text\n",
    "address2 = cards[1].select_one('.locality').text\n",
    "reviews = cards[1].select_one('.count').text.replace(')', '').replace('(', '')\n",
    "categories = cards[0].select('.categories')[0].text\n",
    "\n",
    "n_page = soup.select_one('.next.ajax-page')['href']\n",
    "n_page"
   ]
  },
  {
   "cell_type": "code",
   "execution_count": null,
   "metadata": {},
   "outputs": [],
   "source": []
  },
  {
   "cell_type": "markdown",
   "metadata": {},
   "source": [
    "## Thank you"
   ]
  }
 ],
 "metadata": {
  "kernelspec": {
   "display_name": "Python 3.10.6 ('khaliq')",
   "language": "python",
   "name": "python3"
  },
  "language_info": {
   "codemirror_mode": {
    "name": "ipython",
    "version": 3
   },
   "file_extension": ".py",
   "mimetype": "text/x-python",
   "name": "python",
   "nbconvert_exporter": "python",
   "pygments_lexer": "ipython3",
   "version": "3.10.6"
  },
  "orig_nbformat": 4,
  "vscode": {
   "interpreter": {
    "hash": "f083f4f62c7ff79ae1066b6303fc95835897d0a126dd6ae7a42191c9ceef673f"
   }
  }
 },
 "nbformat": 4,
 "nbformat_minor": 2
}
